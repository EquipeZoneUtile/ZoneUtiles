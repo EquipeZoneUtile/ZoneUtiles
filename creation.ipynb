{
 "cells": [
  {
   "cell_type": "code",
   "execution_count": 17,
   "metadata": {},
   "outputs": [],
   "source": [
    "import random\n",
    "import numpy as np\n",
    "from PIL import Image, ImageDraw"
   ]
  },
  {
   "cell_type": "code",
   "execution_count": 30,
   "metadata": {},
   "outputs": [],
   "source": [
    "\n",
    "def generate_random_matrix(n, m):\n",
    "    matrix = []\n",
    "    for _ in range(n):\n",
    "        row = [random.choice([\"0\", \"1\", \"0\", \"0\"]) for _ in range(m)]\n",
    "        matrix.append(row)\n",
    "    return matrix\n",
    "\n",
    "# Exemple d'utilisation\n"
   ]
  },
  {
   "cell_type": "code",
   "execution_count": 28,
   "metadata": {},
   "outputs": [],
   "source": [
    "class SegmentTree:\n",
    "    def __init__(self, n):\n",
    "        self.n = n\n",
    "        self.tree = [0] * (4 * n)\n",
    "        \n",
    "    def update(self, node, start, end, idx, value):\n",
    "        if start == end:\n",
    "            self.tree[node] = value\n",
    "        else:\n",
    "            mid = (start + end) // 2\n",
    "            left_child = 2 * node + 1\n",
    "            right_child = 2 * node + 2\n",
    "            if idx <= mid:\n",
    "                self.update(left_child, start, mid, idx, value)\n",
    "            else:\n",
    "                self.update(right_child, mid + 1, end, idx, value)\n",
    "            self.tree[node] = max(self.tree[left_child], self.tree[right_child])\n",
    "    \n",
    "    def query(self, node, start, end, left, right):\n",
    "        if start > right or end < left:\n",
    "            return 0\n",
    "        if left <= start and end <= right:\n",
    "            return self.tree[node]\n",
    "        mid = (start + end) // 2\n",
    "        left_child = 2 * node + 1\n",
    "        right_child = 2 * node + 2\n",
    "        left_max = self.query(left_child, start, mid, left, right)\n",
    "        right_max = self.query(right_child, mid + 1, end, left, right)\n",
    "        return max(left_max, right_max)\n",
    "\n"
   ]
  },
  {
   "cell_type": "code",
   "execution_count": 34,
   "metadata": {},
   "outputs": [],
   "source": [
    "def maximalRectangle(matrix):\n",
    "    if not matrix:\n",
    "        return 0\n",
    "\n",
    "    rows = len(matrix)\n",
    "    cols = len(matrix[0])\n",
    "    max_area = 0\n",
    "    max_coords = (0, 0, 0, 0)  # (row_top, col_left, row_bottom, col_right) du rectangle\n",
    "\n",
    "    heights = [0] * cols\n",
    "    segment_tree = SegmentTree(cols)\n",
    "\n",
    "    for i in range(rows):\n",
    "        for j in range(cols):\n",
    "            if matrix[i][j] == \"1\":\n",
    "                heights[j] = 0\n",
    "            else:\n",
    "                heights[j] += 1\n",
    "            segment_tree.update(0, 0, cols - 1, j, heights[j])\n",
    "\n",
    "        for j in range(cols):\n",
    "            left = j\n",
    "            while left > 0 and heights[j] <= heights[left - 1]:\n",
    "                left = left - 1\n",
    "            right = j\n",
    "            while right < cols - 1 and heights[j] <= heights[right + 1]:\n",
    "                right = right + 1\n",
    "\n",
    "            area = heights[j] * (right - left + 1)\n",
    "            if area > max_area:\n",
    "                max_area = area\n",
    "                max_coords = (i - heights[j] + 1, left, i, right)\n",
    "\n",
    "    return max_area, max_coords\n",
    "\n"
   ]
  },
  {
   "cell_type": "code",
   "execution_count": 35,
   "metadata": {},
   "outputs": [
    {
     "name": "stdout",
     "output_type": "stream",
     "text": [
      "(26, (3, 5, 15, 6))\n"
     ]
    }
   ],
   "source": [
    "n = 16  # Nombre de lignes\n",
    "m = 10  # Nombre de colonnes\n",
    "random_matrix = generate_random_matrix(n, m)\n",
    "\n",
    "result = maximalRectangle(random_matrix)\n",
    "print(result)\n",
    "image = create_image_from_matrix(random_matrix)\n",
    "if image:\n",
    "    image.show()  # Affiche la plus grande aire de rectangle composée de zéros"
   ]
  },
  {
   "cell_type": "code",
   "execution_count": 20,
   "metadata": {},
   "outputs": [],
   "source": [
    "def create_image_from_matrix(matrix):\n",
    "    if not matrix:\n",
    "        return None\n",
    "\n",
    "    num_rows = len(matrix)\n",
    "    num_cols = len(matrix[0])\n",
    "    cell_size = 20  # Taille de chaque cellule en pixels\n",
    "    image_width = num_cols * cell_size\n",
    "    image_height = num_rows * cell_size\n",
    "    image = Image.new(\"RGB\", (image_width, image_height), \"white\")\n",
    "    draw = ImageDraw.Draw(image)\n",
    "\n",
    "    for i in range(num_rows):\n",
    "        for j in range(num_cols):\n",
    "            if matrix[i][j] == \"1\":\n",
    "                draw.rectangle(\n",
    "                    [j * cell_size, i * cell_size, (j + 1) * cell_size, (i + 1) * cell_size],\n",
    "                    fill=\"black\",\n",
    "                )\n",
    "\n",
    "    return image"
   ]
  },
  {
   "cell_type": "code",
   "execution_count": null,
   "metadata": {},
   "outputs": [],
   "source": []
  }
 ],
 "metadata": {
  "kernelspec": {
   "display_name": "Python 3",
   "language": "python",
   "name": "python3"
  },
  "language_info": {
   "codemirror_mode": {
    "name": "ipython",
    "version": 3
   },
   "file_extension": ".py",
   "mimetype": "text/x-python",
   "name": "python",
   "nbconvert_exporter": "python",
   "pygments_lexer": "ipython3",
   "version": "3.10.6"
  }
 },
 "nbformat": 4,
 "nbformat_minor": 2
}
